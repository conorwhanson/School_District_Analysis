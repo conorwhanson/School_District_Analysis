{
 "cells": [
  {
   "cell_type": "code",
   "execution_count": 1,
   "id": "f1e7acbd",
   "metadata": {},
   "outputs": [
    {
     "name": "stderr",
     "output_type": "stream",
     "text": [
      "/Users/conorhanson/opt/anaconda3/envs/PythonData/lib/python3.7/site-packages/ipykernel_launcher.py:18: FutureWarning: The default value of regex will change from True to False in a future version.\n"
     ]
    },
    {
     "data": {
      "text/html": [
       "<div>\n",
       "<style scoped>\n",
       "    .dataframe tbody tr th:only-of-type {\n",
       "        vertical-align: middle;\n",
       "    }\n",
       "\n",
       "    .dataframe tbody tr th {\n",
       "        vertical-align: top;\n",
       "    }\n",
       "\n",
       "    .dataframe thead th {\n",
       "        text-align: right;\n",
       "    }\n",
       "</style>\n",
       "<table border=\"1\" class=\"dataframe\">\n",
       "  <thead>\n",
       "    <tr style=\"text-align: right;\">\n",
       "      <th></th>\n",
       "      <th>Student ID</th>\n",
       "      <th>student_name</th>\n",
       "      <th>gender</th>\n",
       "      <th>grade</th>\n",
       "      <th>school_name</th>\n",
       "      <th>reading_score</th>\n",
       "      <th>math_score</th>\n",
       "    </tr>\n",
       "  </thead>\n",
       "  <tbody>\n",
       "    <tr>\n",
       "      <th>0</th>\n",
       "      <td>0</td>\n",
       "      <td>Paul Bradley</td>\n",
       "      <td>M</td>\n",
       "      <td>9th</td>\n",
       "      <td>Huang High School</td>\n",
       "      <td>66</td>\n",
       "      <td>79</td>\n",
       "    </tr>\n",
       "    <tr>\n",
       "      <th>1</th>\n",
       "      <td>1</td>\n",
       "      <td>Victor Smith</td>\n",
       "      <td>M</td>\n",
       "      <td>12th</td>\n",
       "      <td>Huang High School</td>\n",
       "      <td>94</td>\n",
       "      <td>61</td>\n",
       "    </tr>\n",
       "    <tr>\n",
       "      <th>2</th>\n",
       "      <td>2</td>\n",
       "      <td>Kevin Rodriguez</td>\n",
       "      <td>M</td>\n",
       "      <td>12th</td>\n",
       "      <td>Huang High School</td>\n",
       "      <td>90</td>\n",
       "      <td>60</td>\n",
       "    </tr>\n",
       "    <tr>\n",
       "      <th>3</th>\n",
       "      <td>3</td>\n",
       "      <td>Richard Scott</td>\n",
       "      <td>M</td>\n",
       "      <td>12th</td>\n",
       "      <td>Huang High School</td>\n",
       "      <td>67</td>\n",
       "      <td>58</td>\n",
       "    </tr>\n",
       "    <tr>\n",
       "      <th>4</th>\n",
       "      <td>4</td>\n",
       "      <td>Bonnie Ray</td>\n",
       "      <td>F</td>\n",
       "      <td>9th</td>\n",
       "      <td>Huang High School</td>\n",
       "      <td>97</td>\n",
       "      <td>84</td>\n",
       "    </tr>\n",
       "    <tr>\n",
       "      <th>5</th>\n",
       "      <td>5</td>\n",
       "      <td>Bryan Miranda</td>\n",
       "      <td>M</td>\n",
       "      <td>9th</td>\n",
       "      <td>Huang High School</td>\n",
       "      <td>94</td>\n",
       "      <td>94</td>\n",
       "    </tr>\n",
       "    <tr>\n",
       "      <th>6</th>\n",
       "      <td>6</td>\n",
       "      <td>Sheena Carter</td>\n",
       "      <td>F</td>\n",
       "      <td>11th</td>\n",
       "      <td>Huang High School</td>\n",
       "      <td>82</td>\n",
       "      <td>80</td>\n",
       "    </tr>\n",
       "    <tr>\n",
       "      <th>7</th>\n",
       "      <td>7</td>\n",
       "      <td>Nicole Baker</td>\n",
       "      <td>F</td>\n",
       "      <td>12th</td>\n",
       "      <td>Huang High School</td>\n",
       "      <td>96</td>\n",
       "      <td>69</td>\n",
       "    </tr>\n",
       "    <tr>\n",
       "      <th>8</th>\n",
       "      <td>8</td>\n",
       "      <td>Michael Roth</td>\n",
       "      <td>M</td>\n",
       "      <td>10th</td>\n",
       "      <td>Huang High School</td>\n",
       "      <td>95</td>\n",
       "      <td>87</td>\n",
       "    </tr>\n",
       "    <tr>\n",
       "      <th>9</th>\n",
       "      <td>9</td>\n",
       "      <td>Matthew Greene</td>\n",
       "      <td>M</td>\n",
       "      <td>10th</td>\n",
       "      <td>Huang High School</td>\n",
       "      <td>96</td>\n",
       "      <td>84</td>\n",
       "    </tr>\n",
       "  </tbody>\n",
       "</table>\n",
       "</div>"
      ],
      "text/plain": [
       "   Student ID     student_name gender grade        school_name  reading_score  \\\n",
       "0           0     Paul Bradley      M   9th  Huang High School             66   \n",
       "1           1     Victor Smith      M  12th  Huang High School             94   \n",
       "2           2  Kevin Rodriguez      M  12th  Huang High School             90   \n",
       "3           3    Richard Scott      M  12th  Huang High School             67   \n",
       "4           4       Bonnie Ray      F   9th  Huang High School             97   \n",
       "5           5    Bryan Miranda      M   9th  Huang High School             94   \n",
       "6           6    Sheena Carter      F  11th  Huang High School             82   \n",
       "7           7     Nicole Baker      F  12th  Huang High School             96   \n",
       "8           8     Michael Roth      M  10th  Huang High School             95   \n",
       "9           9   Matthew Greene      M  10th  Huang High School             96   \n",
       "\n",
       "   math_score  \n",
       "0          79  \n",
       "1          61  \n",
       "2          60  \n",
       "3          58  \n",
       "4          84  \n",
       "5          94  \n",
       "6          80  \n",
       "7          69  \n",
       "8          87  \n",
       "9          84  "
      ]
     },
     "execution_count": 1,
     "metadata": {},
     "output_type": "execute_result"
    }
   ],
   "source": [
    "# Dependencies and Setup\n",
    "import pandas as pd\n",
    "\n",
    "# File to Load (Remember to change the path if needed.)\n",
    "school_data_to_load = \"Resources/schools_complete.csv\"\n",
    "student_data_to_load = \"Resources/students_complete.csv\"\n",
    "\n",
    "# Read the School Data and Student Data and store into a Pandas DataFrame\n",
    "school_data_df = pd.read_csv(school_data_to_load)\n",
    "student_data_df = pd.read_csv(student_data_to_load)\n",
    "\n",
    "# Cleaning Student Names and Replacing Substrings in a Python String\n",
    "# Add each prefix and suffix to remove to a list.\n",
    "prefixes_suffixes = [\"Dr. \", \"Mr. \",\"Ms. \", \"Mrs. \", \"Miss \", \" MD\", \" DDS\", \" DVM\", \" PhD\"]\n",
    "\n",
    "# Iterate through the words in the \"prefixes_suffixes\" list and replace them with an empty space, \"\".\n",
    "for word in prefixes_suffixes:\n",
    "    student_data_df[\"student_name\"] = student_data_df[\"student_name\"].str.replace(word,\"\")\n",
    "\n",
    "# Check names.\n",
    "student_data_df.head(10)"
   ]
  },
  {
   "cell_type": "code",
   "execution_count": 2,
   "id": "2d91b481",
   "metadata": {},
   "outputs": [],
   "source": [
    "# Install numpy using conda install numpy or pip install numpy. \n",
    "# Step 1. Import numpy as np.\n",
    "import numpy as np"
   ]
  },
  {
   "cell_type": "code",
   "execution_count": 6,
   "id": "d8fc34a8",
   "metadata": {},
   "outputs": [],
   "source": [
    "# Step 2. Use the loc method on the student_data_df to select all the reading scores from the 9th grade at Thomas High School and replace them with NaN.\n",
    "student_data_df.loc[(student_data_df[\"school_name\"] == \"Thomas High School\") & (student_data_df[\"grade\"] == \"9th\"), \"reading_score\"] = np.nan\n"
   ]
  },
  {
   "cell_type": "code",
   "execution_count": 9,
   "id": "783afc64",
   "metadata": {},
   "outputs": [],
   "source": [
    "#  Step 3. Refactor the code in Step 2 to replace the math scores with NaN.\n",
    "student_data_df.loc[(student_data_df[\"school_name\"] == \"Thomas High School\") & (student_data_df[\"grade\"] == \"9th\"), \"math_score\"] = np.nan\n"
   ]
  },
  {
   "cell_type": "code",
   "execution_count": 11,
   "id": "ebd3aa7e",
   "metadata": {},
   "outputs": [
    {
     "data": {
      "text/html": [
       "<div>\n",
       "<style scoped>\n",
       "    .dataframe tbody tr th:only-of-type {\n",
       "        vertical-align: middle;\n",
       "    }\n",
       "\n",
       "    .dataframe tbody tr th {\n",
       "        vertical-align: top;\n",
       "    }\n",
       "\n",
       "    .dataframe thead th {\n",
       "        text-align: right;\n",
       "    }\n",
       "</style>\n",
       "<table border=\"1\" class=\"dataframe\">\n",
       "  <thead>\n",
       "    <tr style=\"text-align: right;\">\n",
       "      <th></th>\n",
       "      <th>Student ID</th>\n",
       "      <th>student_name</th>\n",
       "      <th>gender</th>\n",
       "      <th>grade</th>\n",
       "      <th>school_name</th>\n",
       "      <th>reading_score</th>\n",
       "      <th>math_score</th>\n",
       "    </tr>\n",
       "  </thead>\n",
       "  <tbody>\n",
       "    <tr>\n",
       "      <th>39160</th>\n",
       "      <td>39160</td>\n",
       "      <td>Katie Weaver</td>\n",
       "      <td>F</td>\n",
       "      <td>11th</td>\n",
       "      <td>Thomas High School</td>\n",
       "      <td>89.0</td>\n",
       "      <td>86.0</td>\n",
       "    </tr>\n",
       "    <tr>\n",
       "      <th>39161</th>\n",
       "      <td>39161</td>\n",
       "      <td>April Reyes</td>\n",
       "      <td>F</td>\n",
       "      <td>10th</td>\n",
       "      <td>Thomas High School</td>\n",
       "      <td>70.0</td>\n",
       "      <td>84.0</td>\n",
       "    </tr>\n",
       "    <tr>\n",
       "      <th>39162</th>\n",
       "      <td>39162</td>\n",
       "      <td>Derek Weeks</td>\n",
       "      <td>M</td>\n",
       "      <td>12th</td>\n",
       "      <td>Thomas High School</td>\n",
       "      <td>94.0</td>\n",
       "      <td>77.0</td>\n",
       "    </tr>\n",
       "    <tr>\n",
       "      <th>39163</th>\n",
       "      <td>39163</td>\n",
       "      <td>John Reese</td>\n",
       "      <td>M</td>\n",
       "      <td>11th</td>\n",
       "      <td>Thomas High School</td>\n",
       "      <td>90.0</td>\n",
       "      <td>75.0</td>\n",
       "    </tr>\n",
       "    <tr>\n",
       "      <th>39164</th>\n",
       "      <td>39164</td>\n",
       "      <td>Joseph Anthony</td>\n",
       "      <td>M</td>\n",
       "      <td>9th</td>\n",
       "      <td>Thomas High School</td>\n",
       "      <td>NaN</td>\n",
       "      <td>NaN</td>\n",
       "    </tr>\n",
       "    <tr>\n",
       "      <th>39165</th>\n",
       "      <td>39165</td>\n",
       "      <td>Donna Howard</td>\n",
       "      <td>F</td>\n",
       "      <td>12th</td>\n",
       "      <td>Thomas High School</td>\n",
       "      <td>99.0</td>\n",
       "      <td>90.0</td>\n",
       "    </tr>\n",
       "    <tr>\n",
       "      <th>39166</th>\n",
       "      <td>39166</td>\n",
       "      <td>Dawn Bell</td>\n",
       "      <td>F</td>\n",
       "      <td>10th</td>\n",
       "      <td>Thomas High School</td>\n",
       "      <td>95.0</td>\n",
       "      <td>70.0</td>\n",
       "    </tr>\n",
       "    <tr>\n",
       "      <th>39167</th>\n",
       "      <td>39167</td>\n",
       "      <td>Rebecca Tanner</td>\n",
       "      <td>F</td>\n",
       "      <td>9th</td>\n",
       "      <td>Thomas High School</td>\n",
       "      <td>NaN</td>\n",
       "      <td>NaN</td>\n",
       "    </tr>\n",
       "    <tr>\n",
       "      <th>39168</th>\n",
       "      <td>39168</td>\n",
       "      <td>Desiree Kidd</td>\n",
       "      <td>F</td>\n",
       "      <td>10th</td>\n",
       "      <td>Thomas High School</td>\n",
       "      <td>99.0</td>\n",
       "      <td>90.0</td>\n",
       "    </tr>\n",
       "    <tr>\n",
       "      <th>39169</th>\n",
       "      <td>39169</td>\n",
       "      <td>Carolyn Jackson</td>\n",
       "      <td>F</td>\n",
       "      <td>11th</td>\n",
       "      <td>Thomas High School</td>\n",
       "      <td>95.0</td>\n",
       "      <td>75.0</td>\n",
       "    </tr>\n",
       "  </tbody>\n",
       "</table>\n",
       "</div>"
      ],
      "text/plain": [
       "       Student ID     student_name gender grade         school_name  \\\n",
       "39160       39160     Katie Weaver      F  11th  Thomas High School   \n",
       "39161       39161      April Reyes      F  10th  Thomas High School   \n",
       "39162       39162      Derek Weeks      M  12th  Thomas High School   \n",
       "39163       39163       John Reese      M  11th  Thomas High School   \n",
       "39164       39164   Joseph Anthony      M   9th  Thomas High School   \n",
       "39165       39165     Donna Howard      F  12th  Thomas High School   \n",
       "39166       39166        Dawn Bell      F  10th  Thomas High School   \n",
       "39167       39167   Rebecca Tanner      F   9th  Thomas High School   \n",
       "39168       39168     Desiree Kidd      F  10th  Thomas High School   \n",
       "39169       39169  Carolyn Jackson      F  11th  Thomas High School   \n",
       "\n",
       "       reading_score  math_score  \n",
       "39160           89.0        86.0  \n",
       "39161           70.0        84.0  \n",
       "39162           94.0        77.0  \n",
       "39163           90.0        75.0  \n",
       "39164            NaN         NaN  \n",
       "39165           99.0        90.0  \n",
       "39166           95.0        70.0  \n",
       "39167            NaN         NaN  \n",
       "39168           99.0        90.0  \n",
       "39169           95.0        75.0  "
      ]
     },
     "execution_count": 11,
     "metadata": {},
     "output_type": "execute_result"
    }
   ],
   "source": [
    "#  Step 4. Check the student data for NaN's. \n",
    "student_data_df.tail(10)"
   ]
  },
  {
   "cell_type": "code",
   "execution_count": null,
   "id": "30e15325",
   "metadata": {},
   "outputs": [],
   "source": []
  },
  {
   "cell_type": "code",
   "execution_count": null,
   "id": "33a735ca",
   "metadata": {},
   "outputs": [],
   "source": []
  },
  {
   "cell_type": "code",
   "execution_count": null,
   "id": "493c8bb9",
   "metadata": {},
   "outputs": [],
   "source": []
  },
  {
   "cell_type": "code",
   "execution_count": null,
   "id": "4349f9fa",
   "metadata": {},
   "outputs": [],
   "source": [
    "import pandas as pd\n",
    "import numpy as np"
   ]
  },
  {
   "cell_type": "code",
   "execution_count": null,
   "id": "fe6680ae",
   "metadata": {},
   "outputs": [],
   "source": [
    "school_data = \"resources/schools_complete.csv\"\n",
    "student_data = \"resources/students_complete.csv\""
   ]
  },
  {
   "cell_type": "code",
   "execution_count": null,
   "id": "ce9a6c14",
   "metadata": {
    "scrolled": true
   },
   "outputs": [],
   "source": [
    "# read school data file\n",
    "school_data_df = pd.read_csv(school_data)\n",
    "school_data_df"
   ]
  },
  {
   "cell_type": "code",
   "execution_count": null,
   "id": "8cc71e74",
   "metadata": {},
   "outputs": [],
   "source": [
    "school_data_df.info()"
   ]
  },
  {
   "cell_type": "code",
   "execution_count": null,
   "id": "6d70955d",
   "metadata": {},
   "outputs": [],
   "source": []
  },
  {
   "cell_type": "code",
   "execution_count": null,
   "id": "4e3d98ab",
   "metadata": {},
   "outputs": [],
   "source": [
    "student_data_df = pd.read_csv(student_data)\n",
    "student_data_df"
   ]
  },
  {
   "cell_type": "code",
   "execution_count": null,
   "id": "c5654cfa",
   "metadata": {},
   "outputs": [],
   "source": [
    "student_data_df.info()"
   ]
  },
  {
   "cell_type": "code",
   "execution_count": null,
   "id": "768799d8",
   "metadata": {},
   "outputs": [],
   "source": []
  },
  {
   "cell_type": "code",
   "execution_count": null,
   "id": "1bffd9dc",
   "metadata": {},
   "outputs": [],
   "source": [
    "# list of prefixes/suffixes to remove\n",
    "prefixes_suffixes = [\"Mr. \", \"Mrs. \", \"Miss \", \"Dr. \", \" MD\", \" DDS\", \" DVM\", \" PhD\"]\n",
    "\n",
    "# iterate through data to remove items in above list and replace with .replace function\n",
    "for title in prefixes_suffixes:\n",
    "    student_data_df[\"student_name\"] = student_data_df[\"student_name\"].str.replace(title, \"\")\n"
   ]
  },
  {
   "cell_type": "code",
   "execution_count": null,
   "id": "9af07d74",
   "metadata": {},
   "outputs": [],
   "source": [
    "student_data_df.head(10)"
   ]
  },
  {
   "cell_type": "code",
   "execution_count": null,
   "id": "1c93b971",
   "metadata": {},
   "outputs": [],
   "source": [
    "# merge the school and student datasets on \"school_name\"\n",
    "school_data_complete_df = pd.merge(student_data_df, school_data_df, on = [\"school_name\", \"school_name\"])\n",
    "school_data_complete_df.head()"
   ]
  },
  {
   "cell_type": "code",
   "execution_count": null,
   "id": "fe7d746d",
   "metadata": {},
   "outputs": [],
   "source": [
    "# get total number of students\n",
    "student_count = school_data_complete_df[\"Student ID\"].count()\n",
    "student_count"
   ]
  },
  {
   "cell_type": "code",
   "execution_count": null,
   "id": "c0108a11",
   "metadata": {},
   "outputs": [],
   "source": [
    "school_data_complete_df.info()"
   ]
  },
  {
   "cell_type": "code",
   "execution_count": null,
   "id": "7b3ae6be",
   "metadata": {},
   "outputs": [],
   "source": [
    "# calculate total number of schools from merged dataset (cannot be done like above on single dataset)\n",
    "school_count = school_data_complete_df[\"school_name\"].unique()\n",
    "len(school_count)"
   ]
  },
  {
   "cell_type": "code",
   "execution_count": null,
   "id": "00a27366",
   "metadata": {},
   "outputs": [],
   "source": [
    "# find total budget from the single school dataset above\n",
    "total_budget = school_data_df[\"budget\"].sum()\n",
    "total_budget"
   ]
  },
  {
   "cell_type": "code",
   "execution_count": null,
   "id": "433d6d9f",
   "metadata": {},
   "outputs": [],
   "source": [
    "# calculate mean reading and math scores\n",
    "avg_reading_score = school_data_complete_df[\"reading_score\"].mean()\n",
    "avg_reading_score"
   ]
  },
  {
   "cell_type": "code",
   "execution_count": null,
   "id": "746f2ce9",
   "metadata": {},
   "outputs": [],
   "source": [
    "avg_math_score = school_data_complete_df[\"math_score\"].mean()\n",
    "avg_math_score"
   ]
  },
  {
   "cell_type": "code",
   "execution_count": null,
   "id": "4a991aa3",
   "metadata": {},
   "outputs": [],
   "source": [
    "# begin calculating math and reading scores\n",
    "\n",
    "passing_math = school_data_complete_df[school_data_complete_df[\"math_score\"] >= 70]\n",
    "passing_reading = school_data_complete_df[school_data_complete_df[\"reading_score\"] >= 70]\n"
   ]
  },
  {
   "cell_type": "code",
   "execution_count": null,
   "id": "f1a93b94",
   "metadata": {},
   "outputs": [],
   "source": [
    "# calculate number of students who passed math\n",
    "pass_math_count = passing_math[\"student_name\"].count()\n",
    "pass_math_count"
   ]
  },
  {
   "cell_type": "code",
   "execution_count": null,
   "id": "fe803b19",
   "metadata": {},
   "outputs": [],
   "source": [
    "# calculate number of students who passed reading\n",
    "pass_reading_count = passing_reading[\"student_name\"].count()\n",
    "pass_reading_count"
   ]
  },
  {
   "cell_type": "code",
   "execution_count": null,
   "id": "9afc271c",
   "metadata": {},
   "outputs": [],
   "source": [
    "# calculate percentage passing students\n",
    "pct_reading_pass = pass_reading_count / (student_count) * 100\n",
    "pct_math_pass = pass_math_count / (student_count) * 100"
   ]
  },
  {
   "cell_type": "code",
   "execution_count": null,
   "id": "be6c894a",
   "metadata": {},
   "outputs": [],
   "source": [
    "print(pct_reading_pass)\n",
    "print(pct_math_pass)"
   ]
  },
  {
   "cell_type": "code",
   "execution_count": null,
   "id": "b0cec9fc",
   "metadata": {},
   "outputs": [],
   "source": [
    "passing_both = school_data_complete_df[(school_data_complete_df[\"math_score\"] >= 70) & (school_data_complete_df[\"reading_score\"] >= 70)]"
   ]
  },
  {
   "cell_type": "code",
   "execution_count": null,
   "id": "75994697",
   "metadata": {},
   "outputs": [],
   "source": [
    "pass_both_count = passing_both[\"student_name\"].count()\n",
    "pass_both_count"
   ]
  },
  {
   "cell_type": "code",
   "execution_count": null,
   "id": "2659e8af",
   "metadata": {},
   "outputs": [],
   "source": [
    "pct_both_pass = pass_both_count / (student_count) * 100\n",
    "pct_both_pass"
   ]
  },
  {
   "cell_type": "code",
   "execution_count": null,
   "id": "2a9d9cc9",
   "metadata": {
    "scrolled": true
   },
   "outputs": [],
   "source": [
    "# create a summary dataframe with all calculated data\n",
    "district_summary_df = pd.DataFrame(\n",
    "[{\"Total Schools\": len(school_count),\n",
    " \"Total Students\": student_count,\n",
    " \"Total Budget\": total_budget,\n",
    " \"Average Math Score\": avg_math_score,\n",
    " \"Average Reading Score\": avg_reading_score,\n",
    " \"% Passing Math\": pct_math_pass,\n",
    " \"% Passing Reading\": pct_reading_pass,\n",
    " \"% Passing Both\": pct_both_pass}])\n",
    "district_summary_df"
   ]
  },
  {
   "cell_type": "code",
   "execution_count": null,
   "id": "6adcb4f3",
   "metadata": {},
   "outputs": [],
   "source": [
    "passing_math_count = 29370\n",
    "total_student_count = 39170"
   ]
  },
  {
   "cell_type": "code",
   "execution_count": null,
   "id": "e83d5339",
   "metadata": {},
   "outputs": [],
   "source": [
    "# function for calculating student summaries\n",
    "def passing_math_percent(pass_math_count, student_count):\n",
    "    return pass_math_count / float(student_count) * 100"
   ]
  },
  {
   "cell_type": "code",
   "execution_count": null,
   "id": "7051637f",
   "metadata": {},
   "outputs": [],
   "source": [
    "passing_math_percent(pass_math_count, total_student_count)"
   ]
  },
  {
   "cell_type": "code",
   "execution_count": null,
   "id": "c246df32",
   "metadata": {},
   "outputs": [],
   "source": [
    "# Formatting dataframes\n",
    "# district_summary_df[\"Total Students\"] = district_summary_df[\"Total Students\"].map(\"{:,}\".format)\n",
    "# district_summary_df[\"Total Students\"]"
   ]
  },
  {
   "cell_type": "code",
   "execution_count": null,
   "id": "8d65294f",
   "metadata": {},
   "outputs": [],
   "source": [
    "# format budget\n",
    "district_summary_df[\"Total Budget\"] = district_summary_df[\"Total Budget\"].map(\"${:,.2f}\".format)\n",
    "district_summary_df[\"Total Budget\"]"
   ]
  },
  {
   "cell_type": "code",
   "execution_count": null,
   "id": "1e252b31",
   "metadata": {},
   "outputs": [],
   "source": [
    "# format the district summary dataframe\n",
    "district_summary_df[\"Average Reading Score\"] = district_summary_df[\"Average Reading Score\"].map(\"{:.1f}\".format)\n",
    "district_summary_df[\"Average Math Score\"] = district_summary_df[\"Average Math Score\"].map(\"{:.1f}\".format)\n",
    "district_summary_df[\"% Passing Reading\"] = district_summary_df[\"% Passing Reading\"].map(\"{:.0f}\".format)\n",
    "district_summary_df[\"% Passing Math\"] = district_summary_df[\"% Passing Math\"].map(\"{:.0f}\".format)\n",
    "district_summary_df[\"% Passing Both\"] = district_summary_df[\"% Passing Both\"].map(\"{:.0f}\".format)\n",
    "\n"
   ]
  },
  {
   "cell_type": "code",
   "execution_count": null,
   "id": "3993576f",
   "metadata": {},
   "outputs": [],
   "source": [
    "district_summary_df"
   ]
  },
  {
   "cell_type": "code",
   "execution_count": null,
   "id": "739da08b",
   "metadata": {},
   "outputs": [],
   "source": [
    "# create dataframe of schools and types using school name as index\n",
    "school_types = school_data_df.set_index([\"school_name\"])[\"type\"]\n",
    "school_types"
   ]
  },
  {
   "cell_type": "code",
   "execution_count": null,
   "id": "82f411c1",
   "metadata": {},
   "outputs": [],
   "source": [
    "school_types_df = pd.DataFrame(school_types)\n",
    "school_types_df"
   ]
  },
  {
   "cell_type": "code",
   "execution_count": null,
   "id": "08411858",
   "metadata": {},
   "outputs": [],
   "source": [
    "# find total number of students per school by indexing \n",
    "per_school_count = school_data_df.set_index([\"school_name\"])[\"size\"]\n",
    "per_school_count"
   ]
  },
  {
   "cell_type": "code",
   "execution_count": null,
   "id": "79d01a83",
   "metadata": {},
   "outputs": [],
   "source": [
    "# find total number of students by value count()\n",
    "per_school_count = school_data_complete_df[\"school_name\"].value_counts()\n",
    "per_school_count"
   ]
  },
  {
   "cell_type": "code",
   "execution_count": null,
   "id": "f52d3055",
   "metadata": {
    "scrolled": true
   },
   "outputs": [],
   "source": [
    "# find each school budget\n",
    "per_school_budget = school_data_df.set_index([\"school_name\"])[\"budget\"]\n",
    "per_school_budget"
   ]
  },
  {
   "cell_type": "code",
   "execution_count": null,
   "id": "be85e2ff",
   "metadata": {},
   "outputs": [],
   "source": [
    "# calculate budget per student\n",
    "per_student_spend = per_school_budget / per_school_count\n",
    "per_student_spend"
   ]
  },
  {
   "cell_type": "code",
   "execution_count": null,
   "id": "ae52ce43",
   "metadata": {},
   "outputs": [],
   "source": [
    "# get average student scores by school\n",
    "per_school_avg = school_data_complete_df.groupby([\"school_name\"]).mean()\n",
    "per_school_avg"
   ]
  },
  {
   "cell_type": "code",
   "execution_count": null,
   "id": "85d25ce3",
   "metadata": {},
   "outputs": [],
   "source": [
    "# get reading and math avg\n",
    "per_school_math = school_data_complete_df.groupby([\"school_name\"]).mean()[\"math_score\"]\n",
    "\n",
    "per_school_reading = school_data_complete_df.groupby([\"school_name\"]).mean()[\"reading_score\"]\n"
   ]
  },
  {
   "cell_type": "code",
   "execution_count": null,
   "id": "bc3f3736",
   "metadata": {},
   "outputs": [],
   "source": [
    "per_school_reading"
   ]
  },
  {
   "cell_type": "code",
   "execution_count": null,
   "id": "e8e562f7",
   "metadata": {},
   "outputs": [],
   "source": [
    "per_school_math"
   ]
  },
  {
   "cell_type": "code",
   "execution_count": null,
   "id": "0453e507",
   "metadata": {},
   "outputs": [],
   "source": [
    "# 1. Determine what is the passing grade.\n",
    "\n",
    "per_school_passing_math = school_data_complete_df[(school_data_complete_df[\"math_score\"] >= 70)]\n",
    "\n",
    "per_school_passing_reading = school_data_complete_df[(school_data_complete_df[\"reading_score\"] >= 70)]"
   ]
  },
  {
   "cell_type": "code",
   "execution_count": null,
   "id": "233685dd",
   "metadata": {},
   "outputs": [],
   "source": [
    "per_school_passing_math.head()"
   ]
  },
  {
   "cell_type": "code",
   "execution_count": null,
   "id": "62f835b5",
   "metadata": {},
   "outputs": [],
   "source": [
    " # 2. Get the number of students who passed math and reading.\n",
    "\n",
    "per_school_passing_math = per_school_passing_math.groupby([\"school_name\"]).count()[\"student_name\"]\n",
    "\n",
    "per_school_passing_reading = per_school_passing_reading.groupby([\"school_name\"]).count()[\"student_name\"]"
   ]
  },
  {
   "cell_type": "code",
   "execution_count": null,
   "id": "e65f0329",
   "metadata": {},
   "outputs": [],
   "source": [
    "per_school_passing_math"
   ]
  },
  {
   "cell_type": "code",
   "execution_count": null,
   "id": "fb9a92bb",
   "metadata": {},
   "outputs": [],
   "source": [
    " # 3. Get the percentage students who passed math and passed reading\n",
    "pct_school_pass_math = per_school_passing_math/per_school_count * 100\n",
    "pct_school_pass_read = per_school_passing_reading/per_school_count * 100"
   ]
  },
  {
   "cell_type": "code",
   "execution_count": null,
   "id": "e943eb4d",
   "metadata": {
    "scrolled": true
   },
   "outputs": [],
   "source": [
    "pct_school_pass_math"
   ]
  },
  {
   "cell_type": "code",
   "execution_count": null,
   "id": "c6662253",
   "metadata": {
    "scrolled": false
   },
   "outputs": [],
   "source": [
    "# overall passing percentage\n",
    "all_pass_both = school_data_complete_df[(school_data_complete_df[\"math_score\"] >= 70) & (school_data_complete_df[\"reading_score\"] >= 70)]\n",
    "all_pass_both"
   ]
  },
  {
   "cell_type": "code",
   "execution_count": null,
   "id": "bd9a90e6",
   "metadata": {},
   "outputs": [],
   "source": [
    "all_pass_both = all_pass_both.groupby([\"school_name\"]).count()[\"student_name\"]\n",
    "all_pass_both"
   ]
  },
  {
   "cell_type": "code",
   "execution_count": null,
   "id": "fdc9aa72",
   "metadata": {},
   "outputs": [],
   "source": [
    "# overall passing percentage\n",
    "school_overall_pass_pct = all_pass_both / per_school_count * 100\n",
    "school_overall_pass_pct"
   ]
  },
  {
   "cell_type": "code",
   "execution_count": null,
   "id": "4ed2b78d",
   "metadata": {
    "scrolled": false
   },
   "outputs": [],
   "source": [
    "# summary of new data for each school\n",
    "per_school_summary_df = pd.DataFrame({\n",
    "    \"School Type\": school_types,\n",
    "    \"Total Students\": per_school_count,\n",
    "    \"Total School Budget\": per_school_budget,\n",
    "    \"Per Student Budget\": per_student_spend,\n",
    "    \"Average Math Score\": per_school_math,\n",
    "    \"Average Reading Score\": per_school_reading,\n",
    "    \"% Passing Math\": pct_school_pass_math,\n",
    "    \"% Passing Reading\": pct_school_pass_read,\n",
    "    \"% Passing Overall\": school_overall_pass_pct})\n",
    "per_school_summary_df"
   ]
  },
  {
   "cell_type": "code",
   "execution_count": null,
   "id": "e698abc8",
   "metadata": {},
   "outputs": [],
   "source": [
    "# format summary per school\n",
    "per_school_summary_df[\"Total School Budget\"] = per_school_summary_df[\"Total School Budget\"].map(\"${:,.2f}\".format)\n",
    "# per_school_summary_df[\"Total Students\"] = per_school_summary_df[\"Total Students\"].map(\"{:,.0f}\".format)\n",
    "per_school_summary_df[\"Per Student Budget\"] = per_school_summary_df[\"Per Student Budget\"].map(\"${:,.2f}\".format)\n",
    "per_school_summary_df[\"Average Math Score\"] = per_school_summary_df[\"Average Math Score\"].map(\"{:.2f}\".format)\n",
    "per_school_summary_df[\"Average Reading Score\"] = per_school_summary_df[\"Average Reading Score\"].map(\"{:.2f}\".format)\n",
    "per_school_summary_df[\"% Passing Math\"] = per_school_summary_df[\"% Passing Math\"].map(\"{:.2f}\".format)\n",
    "per_school_summary_df[\"% Passing Reading\"] = per_school_summary_df[\"% Passing Reading\"].map(\"{:.2f}\".format)\n",
    "per_school_summary_df[\"% Passing Overall\"] = per_school_summary_df[\"% Passing Overall\"].map(\"{:.2f}\".format)\n",
    "\n",
    "\n",
    "per_school_summary_df"
   ]
  },
  {
   "cell_type": "code",
   "execution_count": null,
   "id": "58796b31",
   "metadata": {},
   "outputs": [],
   "source": [
    "# Begin finding highest performing schools by overall passing %\n",
    "top_schools = per_school_summary_df.sort_values([\"% Passing Overall\"], ascending=False)\n",
    "top_schools.head()"
   ]
  },
  {
   "cell_type": "code",
   "execution_count": null,
   "id": "0f68ac5d",
   "metadata": {},
   "outputs": [],
   "source": [
    "# find lowest performing schools\n",
    "bottom_schools = per_school_summary_df.sort_values([\"% Passing Overall\"], ascending=True)\n",
    "bottom_schools.head()"
   ]
  },
  {
   "cell_type": "code",
   "execution_count": null,
   "id": "c41fd20c",
   "metadata": {},
   "outputs": [],
   "source": [
    "# Grade-level per school dataframes\n",
    "# 2 dataframes: 1 for reading scores by grade for each school, 1 for math scores by grade for each school\n"
   ]
  },
  {
   "cell_type": "code",
   "execution_count": null,
   "id": "a3df358f",
   "metadata": {},
   "outputs": [],
   "source": [
    "# 9th grade\n",
    "ninth_graders = school_data_complete_df[(school_data_complete_df[\"grade\"] ==\"9th\")]"
   ]
  },
  {
   "cell_type": "code",
   "execution_count": null,
   "id": "63c27fab",
   "metadata": {},
   "outputs": [],
   "source": [
    "# 10th grade\n",
    "tenth_graders = school_data_complete_df[(school_data_complete_df)[\"grade\"] ==\"10th\"]\n"
   ]
  },
  {
   "cell_type": "code",
   "execution_count": null,
   "id": "7484c2c6",
   "metadata": {},
   "outputs": [],
   "source": [
    "# 11th grade\n",
    "eleventh_graders = school_data_complete_df[(school_data_complete_df)[\"grade\"] ==\"11th\"]\n"
   ]
  },
  {
   "cell_type": "code",
   "execution_count": null,
   "id": "5aa3fbb8",
   "metadata": {},
   "outputs": [],
   "source": [
    "# 12th grade\n",
    "twelfth_graders = school_data_complete_df[(school_data_complete_df)[\"grade\"] ==\"12th\"]\n"
   ]
  },
  {
   "cell_type": "code",
   "execution_count": null,
   "id": "d46117e3",
   "metadata": {
    "scrolled": true
   },
   "outputs": [],
   "source": [
    "ninth_graders.head(5)"
   ]
  },
  {
   "cell_type": "code",
   "execution_count": null,
   "id": "a3ea3643",
   "metadata": {},
   "outputs": [],
   "source": [
    "# school math score averages groupby school name\n",
    "ninth_grade_math_avg = ninth_graders.groupby([\"school_name\"]).mean()[\"math_score\"]\n",
    "tenth_grade_math_avg = tenth_graders.groupby([\"school_name\"]).mean()[\"math_score\"]\n",
    "eleventh_grade_math_avg = eleventh_graders.groupby([\"school_name\"]).mean()[\"math_score\"]\n",
    "twelfth_grade_math_avg = twelfth_graders.groupby([\"school_name\"]).mean()[\"math_score\"]\n"
   ]
  },
  {
   "cell_type": "code",
   "execution_count": null,
   "id": "a8fc98ed",
   "metadata": {},
   "outputs": [],
   "source": [
    "eleventh_grade_math_avg"
   ]
  },
  {
   "cell_type": "code",
   "execution_count": null,
   "id": "5372e1b5",
   "metadata": {},
   "outputs": [],
   "source": [
    "# school reading score averages groupby school name\n",
    "ninth_grade_read_avg = ninth_graders.groupby([\"school_name\"]).mean()[\"reading_score\"]\n",
    "tenth_grade_read_avg = tenth_graders.groupby([\"school_name\"]).mean()[\"reading_score\"]\n",
    "eleventh_grade_read_avg = eleventh_graders.groupby([\"school_name\"]).mean()[\"reading_score\"]\n",
    "twelfth_grade_read_avg = twelfth_graders.groupby([\"school_name\"]).mean()[\"reading_score\"]\n"
   ]
  },
  {
   "cell_type": "code",
   "execution_count": null,
   "id": "f8baf966",
   "metadata": {},
   "outputs": [],
   "source": [
    "twelfth_grade_read_avg"
   ]
  },
  {
   "cell_type": "code",
   "execution_count": null,
   "id": "85ccc63b",
   "metadata": {
    "scrolled": true
   },
   "outputs": [],
   "source": [
    "# Combine avg math scores by grade and school into dataframe\n",
    "math_scores_by_grade = pd.DataFrame({\n",
    "    \"9th\": ninth_grade_math_avg,\n",
    "    \"10th\": tenth_grade_math_avg,\n",
    "    \"11th\": eleventh_grade_math_avg,\n",
    "    \"12th\": twelfth_grade_math_avg\n",
    "})\n",
    "\n",
    "math_scores_by_grade"
   ]
  },
  {
   "cell_type": "code",
   "execution_count": null,
   "id": "068ffede",
   "metadata": {},
   "outputs": [],
   "source": [
    "# formatted percentages\n",
    "math_scores_by_grade[\"9th\"] = math_scores_by_grade[\"9th\"].map(\"{:.1f}\".format)\n",
    "math_scores_by_grade[\"10th\"] = math_scores_by_grade[\"10th\"].map(\"{:.1f}\".format)\n",
    "math_scores_by_grade[\"11th\"] = math_scores_by_grade[\"11th\"].map(\"{:.1f}\".format)\n",
    "math_scores_by_grade[\"12th\"] = math_scores_by_grade[\"12th\"].map(\"{:.1f}\".format)\n",
    "math_scores_by_grade"
   ]
  },
  {
   "cell_type": "code",
   "execution_count": null,
   "id": "3eed3c35",
   "metadata": {},
   "outputs": [],
   "source": [
    "# Combine avg reading scores by grade and school into dataframe\n",
    "reading_scores_by_grade = pd.DataFrame({\n",
    "    \"9th\": ninth_grade_read_avg,\n",
    "    \"10th\": tenth_grade_read_avg,\n",
    "    \"11th\": eleventh_grade_read_avg,\n",
    "    \"12th\": twelfth_grade_read_avg\n",
    "})\n",
    "reading_scores_by_grade"
   ]
  },
  {
   "cell_type": "code",
   "execution_count": null,
   "id": "eb1b8b1f",
   "metadata": {},
   "outputs": [],
   "source": [
    "# format reading scores by grade\n",
    "reading_scores_by_grade[\"9th\"] = reading_scores_by_grade[\"9th\"].map(\"{:.1f}\".format)\n",
    "reading_scores_by_grade[\"10th\"] = reading_scores_by_grade[\"10th\"].map(\"{:.1f}\".format)\n",
    "reading_scores_by_grade[\"11th\"] = reading_scores_by_grade[\"11th\"].map(\"{:.1f}\".format)\n",
    "reading_scores_by_grade[\"12th\"] = reading_scores_by_grade[\"12th\"].map(\"{:.1f}\".format)\n",
    "reading_scores_by_grade"
   ]
  },
  {
   "cell_type": "code",
   "execution_count": null,
   "id": "2662ab77",
   "metadata": {},
   "outputs": [],
   "source": [
    "# begin creating ranges to group per student spending in relation to avg, overall scores\n",
    "per_student_spend.describe()"
   ]
  },
  {
   "cell_type": "code",
   "execution_count": null,
   "id": "7cc62a6b",
   "metadata": {},
   "outputs": [],
   "source": [
    "student_spending_bins = [0, 585, 630, 645, 675]\n",
    "# create a new dataframe cut into the ranges, using pd.cut(df, ranges)\n",
    "pd.cut(per_student_spend, student_spending_bins)"
   ]
  },
  {
   "cell_type": "code",
   "execution_count": null,
   "id": "ec6a7b10",
   "metadata": {},
   "outputs": [],
   "source": [
    "# group the ranges\n",
    "per_student_spend.groupby(pd.cut(per_student_spend, student_spending_bins)).count()"
   ]
  },
  {
   "cell_type": "code",
   "execution_count": null,
   "id": "93850523",
   "metadata": {},
   "outputs": [],
   "source": [
    "range_names = [\"<$586\", \"$586-630\", \"$631-645\", \"$646-675\"]"
   ]
  },
  {
   "cell_type": "code",
   "execution_count": null,
   "id": "a5ee3fd6",
   "metadata": {},
   "outputs": [],
   "source": []
  },
  {
   "cell_type": "code",
   "execution_count": null,
   "id": "f446db74",
   "metadata": {
    "scrolled": true
   },
   "outputs": [],
   "source": [
    "# per school summary based on spending ranges per student\n",
    "per_school_summary_df[\"Spending Ranges (Per Student)\"] = pd.cut(per_student_spend, student_spending_bins, labels=range_names)\n",
    "per_school_summary_df\n"
   ]
  },
  {
   "cell_type": "code",
   "execution_count": null,
   "id": "f857b897",
   "metadata": {
    "scrolled": true
   },
   "outputs": [],
   "source": [
    "per_school_summary_df[[\"Total Students\", \"Average Math Score\", \"Average Reading Score\", \"% Passing Math\", \"% Passing Reading\", \"% Passing Overall\"]] = per_school_summary_df[[\"Total Students\", \"Average Math Score\", \"Average Reading Score\", \"% Passing Math\", \"% Passing Reading\", \"% Passing Overall\"]].apply(pd.to_numeric)\n",
    "\n"
   ]
  },
  {
   "cell_type": "code",
   "execution_count": null,
   "id": "a78b4748",
   "metadata": {},
   "outputs": [],
   "source": [
    "# groupby the spending ranges for students at each school (indexed on the column \"Spending Ranges(Per Student)\")\n",
    "spending_math_avg_scores = per_school_summary_df.groupby([\"Spending Ranges (Per Student)\"]).mean()[\"Average Math Score\"]\n",
    "\n",
    "spending_read_avg_scores = per_school_summary_df.groupby([\"Spending Ranges (Per Student)\"]).mean()[\"Average Reading Score\"]\n",
    "\n",
    "spending_pct_pass_math = per_school_summary_df.groupby([\"Spending Ranges (Per Student)\"]).mean()[\"% Passing Math\"]\n",
    "\n",
    "spending_pct_pass_reading = per_school_summary_df.groupby([\"Spending Ranges (Per Student)\"]).mean()[\"% Passing Reading\"]\n",
    "\n",
    "spending_pct_pass_overall = per_school_summary_df.groupby([\"Spending Ranges (Per Student)\"]).mean()[\"% Passing Overall\"]"
   ]
  },
  {
   "cell_type": "code",
   "execution_count": null,
   "id": "a19683d3",
   "metadata": {},
   "outputs": [],
   "source": [
    "# compile per student spending bins into dataframe indexed off of the spending bins\n",
    "student_spending_summary_df = pd.DataFrame({\n",
    "    \"Average Math Score\": spending_math_avg_scores,\n",
    "    \"Average Reading Score\": spending_read_avg_scores,\n",
    "    \"% Passing Math\": spending_pct_pass_math,\n",
    "    \"% Passing Reading\": spending_pct_pass_reading,\n",
    "    \"% Passing Overall\": spending_pct_pass_overall})\n",
    "student_spending_summary_df"
   ]
  },
  {
   "cell_type": "code",
   "execution_count": null,
   "id": "38d205f0",
   "metadata": {},
   "outputs": [],
   "source": [
    "# format student_spending summary dataframe\n",
    "student_spending_summary_df[\"Average Math Score\"] = student_spending_summary_df[\"Average Math Score\"].map(\"{:.1f}\".format)\n",
    "student_spending_summary_df[\"Average Reading Score\"] = student_spending_summary_df[\"Average Reading Score\"].map(\"{:.1f}\".format)\n",
    "student_spending_summary_df[\"% Passing Math\"] = student_spending_summary_df[\"% Passing Math\"].map(\"{:.0f}\".format)\n",
    "student_spending_summary_df[\"% Passing Reading\"] = student_spending_summary_df[\"% Passing Reading\"].map(\"{:.0f}\".format)\n",
    "student_spending_summary_df[\"% Passing Overall\"] = student_spending_summary_df[\"% Passing Overall\"].map(\"{:.0f}\".format)\n",
    "\n",
    "student_spending_summary_df"
   ]
  },
  {
   "cell_type": "code",
   "execution_count": null,
   "id": "77eda942",
   "metadata": {},
   "outputs": [],
   "source": [
    "# dataframe based on school size that shows average scores, passing percentages\n",
    "school_size_bins = [0, 999, 1999, 5000]\n",
    "size_bin_names = [\"Small (<1000)\", \"Medium (1000-1999)\", \"Large (2000-5000)\"]"
   ]
  },
  {
   "cell_type": "code",
   "execution_count": null,
   "id": "b7b8a1e8",
   "metadata": {},
   "outputs": [],
   "source": [
    "# add column for school size bins\n",
    "per_school_summary_df[\"School Size\"] = pd.cut(per_school_summary_df[\"Total Students\"], school_size_bins, labels=size_bin_names)\n",
    "\n",
    "per_school_summary_df\n"
   ]
  },
  {
   "cell_type": "code",
   "execution_count": null,
   "id": "2178a4c7",
   "metadata": {},
   "outputs": [],
   "source": [
    "# Create series for new dataframe indexed on School Size bins\n",
    "size_math_scores = per_school_summary_df.groupby([\"School Size\"]).mean()[\"Average Math Score\"]\n",
    "\n",
    "size_reading_scores = per_school_summary_df.groupby([\"School Size\"]).mean()[\"Average Reading Score\"]\n",
    "\n",
    "size_passing_math = per_school_summary_df.groupby([\"School Size\"]).mean()[\"% Passing Math\"]\n",
    "\n",
    "size_passing_reading = per_school_summary_df.groupby([\"School Size\"]).mean()[\"% Passing Reading\"]\n",
    "\n",
    "size_overall_passing = per_school_summary_df.groupby([\"School Size\"]).mean()[\"% Passing Overall\"]"
   ]
  },
  {
   "cell_type": "code",
   "execution_count": null,
   "id": "aca2b24e",
   "metadata": {},
   "outputs": [],
   "source": [
    "# create the dataframe from the series above\n",
    "size_summary_df = pd.DataFrame({\n",
    "    \"Average Math Score\": size_math_scores,\n",
    "    \"Average Reading Score\": size_reading_scores,\n",
    "    \"% Passing Math\": size_passing_math,\n",
    "    \"% Passing Reading\": size_passing_reading,\n",
    "    \"% Passing Overall\": size_overall_passing\n",
    "})\n",
    "size_summary_df"
   ]
  },
  {
   "cell_type": "code",
   "execution_count": null,
   "id": "389d7321",
   "metadata": {},
   "outputs": [],
   "source": [
    "# format size_summary_df\n",
    "size_summary_df[\"Average Math Score\"] = size_summary_df[\"Average Math Score\"].map(\"{:.1f}\".format)\n",
    "size_summary_df[\"Average Reading Score\"] = size_summary_df[\"Average Reading Score\"].map(\"{:.1f}\".format)\n",
    "size_summary_df[\"% Passing Math\"] = size_summary_df[\"% Passing Math\"].map(\"{:.0f}\".format)\n",
    "size_summary_df[\"% Passing Reading\"] = size_summary_df[\"% Passing Reading\"].map(\"{:.0f}\".format)\n",
    "size_summary_df[\"% Passing Overall\"] = size_summary_df[\"% Passing Overall\"].map(\"{:.0f}\".format)\n"
   ]
  },
  {
   "cell_type": "code",
   "execution_count": null,
   "id": "14b538e0",
   "metadata": {},
   "outputs": [],
   "source": [
    "size_summary_df"
   ]
  },
  {
   "cell_type": "code",
   "execution_count": null,
   "id": "bf72ea75",
   "metadata": {},
   "outputs": [],
   "source": [
    "# create series for dataframe based on school type\n",
    "type_math_scores = per_school_summary_df.groupby([\"School Type\"]).mean()[\"Average Math Score\"]\n",
    "\n",
    "type_reading_scores = per_school_summary_df.groupby([\"School Type\"]).mean()[\"Average Reading Score\"]\n",
    "\n",
    "type_passing_math = per_school_summary_df.groupby([\"School Type\"]).mean()[\"% Passing Math\"]\n",
    "\n",
    "type_passing_reading = per_school_summary_df.groupby([\"School Type\"]).mean()[\"% Passing Reading\"]\n",
    "\n",
    "type_overall_passing = per_school_summary_df.groupby([\"School Type\"]).mean()[\"% Passing Overall\"]"
   ]
  },
  {
   "cell_type": "code",
   "execution_count": null,
   "id": "38b13b44",
   "metadata": {},
   "outputs": [],
   "source": [
    "# create dataframe based on above series\n",
    "type_summary_df = pd.DataFrame({\n",
    "    \"Average Math Score\": type_math_scores,\n",
    "    \"Average Reading Score\": type_reading_scores,\n",
    "    \"% Passing Math\": type_passing_math,\n",
    "    \"% Passing Reading\": type_passing_reading,\n",
    "    \"% Passing Overall\": type_overall_passing\n",
    "})\n",
    "type_summary_df"
   ]
  },
  {
   "cell_type": "code",
   "execution_count": null,
   "id": "89442a6d",
   "metadata": {},
   "outputs": [],
   "source": [
    "# format type_summary_df \n",
    "type_summary_df[\"Average Math Score\"] = type_summary_df[\"Average Math Score\"].map(\"{:.1f}\".format)\n",
    "type_summary_df[\"Average Reading Score\"] = type_summary_df[\"Average Reading Score\"].map(\"{:.1f}\".format)\n",
    "type_summary_df[\"% Passing Math\"] = type_summary_df[\"% Passing Math\"].map(\"{:.0f}\".format)\n",
    "type_summary_df[\"% Passing Reading\"] = type_summary_df[\"% Passing Reading\"].map(\"{:.0f}\".format)\n",
    "type_summary_df[\"% Passing Overall\"] = type_summary_df[\"% Passing Overall\"].map(\"{:.0f}\".format)"
   ]
  },
  {
   "cell_type": "code",
   "execution_count": null,
   "id": "f15438be",
   "metadata": {},
   "outputs": [],
   "source": [
    "type_summary_df"
   ]
  },
  {
   "cell_type": "code",
   "execution_count": null,
   "id": "7b0ee30f",
   "metadata": {},
   "outputs": [],
   "source": []
  },
  {
   "cell_type": "code",
   "execution_count": null,
   "id": "024b3601",
   "metadata": {},
   "outputs": [],
   "source": []
  }
 ],
 "metadata": {
  "kernelspec": {
   "display_name": "Python 3 (ipykernel)",
   "language": "python",
   "name": "python3"
  },
  "language_info": {
   "codemirror_mode": {
    "name": "ipython",
    "version": 3
   },
   "file_extension": ".py",
   "mimetype": "text/x-python",
   "name": "python",
   "nbconvert_exporter": "python",
   "pygments_lexer": "ipython3",
   "version": "3.7.11"
  }
 },
 "nbformat": 4,
 "nbformat_minor": 5
}
